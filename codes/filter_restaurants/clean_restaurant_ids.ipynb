{
 "cells": [
  {
   "cell_type": "code",
   "execution_count": 1,
   "metadata": {
    "ExecuteTime": {
     "end_time": "2018-01-19T00:31:47.206056Z",
     "start_time": "2018-01-19T00:31:47.180008Z"
    },
    "collapsed": true
   },
   "outputs": [],
   "source": [
    "from pyspark import SparkConf, SparkContext\n",
    "sc = SparkContext.getOrCreate()\n",
    "sqlContext = SQLContext(sc)"
   ]
  },
  {
   "cell_type": "code",
   "execution_count": 29,
   "metadata": {
    "ExecuteTime": {
     "end_time": "2018-01-19T01:00:02.599961Z",
     "start_time": "2018-01-19T01:00:02.509845Z"
    },
    "collapsed": true
   },
   "outputs": [],
   "source": [
    "business = sc.textFile('all_restaurant_ids.txt')"
   ]
  },
  {
   "cell_type": "code",
   "execution_count": 3,
   "metadata": {
    "ExecuteTime": {
     "end_time": "2018-01-19T00:32:37.144492Z",
     "start_time": "2018-01-19T00:32:35.979663Z"
    }
   },
   "outputs": [
    {
     "data": {
      "text/plain": [
       "[u'{ \"business_id\" : \"mLwM-h2YhXl2NCgdS84_Bw\" }',\n",
       " u'{ \"business_id\" : \"duHFBe87uNSXImQmvBh87Q\" }',\n",
       " u'{ \"business_id\" : \"iFEiMJoEqyB9O8OUNSdLzA\" }',\n",
       " u'{ \"business_id\" : \"SDMRxmcKPNt1AHPBKqO64Q\" }',\n",
       " u'{ \"business_id\" : \"qnpvw-uQyRn9nlClWFK9aA\" }']"
      ]
     },
     "execution_count": 3,
     "metadata": {},
     "output_type": "execute_result"
    }
   ],
   "source": [
    "business.take(5)"
   ]
  },
  {
   "cell_type": "code",
   "execution_count": 21,
   "metadata": {
    "ExecuteTime": {
     "end_time": "2018-01-19T00:36:26.904968Z",
     "start_time": "2018-01-19T00:36:26.898119Z"
    }
   },
   "outputs": [],
   "source": [
    "business = business.map(lambda x: x[19:][:-3])"
   ]
  },
  {
   "cell_type": "code",
   "execution_count": 23,
   "metadata": {
    "ExecuteTime": {
     "end_time": "2018-01-19T00:36:56.075031Z",
     "start_time": "2018-01-19T00:36:55.495105Z"
    }
   },
   "outputs": [],
   "source": [
    "res = business.collect()"
   ]
  },
  {
   "cell_type": "code",
   "execution_count": 28,
   "metadata": {
    "ExecuteTime": {
     "end_time": "2018-01-19T00:39:48.950437Z",
     "start_time": "2018-01-19T00:39:48.766990Z"
    },
    "collapsed": true
   },
   "outputs": [],
   "source": [
    "res = set(res)\n",
    "thefile = open('restaurant_ids_final.txt', 'w')\n",
    "for item in res:\n",
    "  thefile.write(\"%s\\n\" % item)\n",
    "thefile.close()"
   ]
  },
  {
   "cell_type": "code",
   "execution_count": 26,
   "metadata": {
    "ExecuteTime": {
     "end_time": "2018-01-19T00:39:40.307701Z",
     "start_time": "2018-01-19T00:39:40.297203Z"
    }
   },
   "outputs": [
    {
     "data": {
      "text/plain": [
       "151929"
      ]
     },
     "execution_count": 26,
     "metadata": {},
     "output_type": "execute_result"
    }
   ],
   "source": [
    "len(res)"
   ]
  },
  {
   "cell_type": "code",
   "execution_count": 27,
   "metadata": {
    "ExecuteTime": {
     "end_time": "2018-01-19T00:39:45.243693Z",
     "start_time": "2018-01-19T00:39:45.195802Z"
    }
   },
   "outputs": [
    {
     "data": {
      "text/plain": [
       "101668"
      ]
     },
     "execution_count": 27,
     "metadata": {},
     "output_type": "execute_result"
    }
   ],
   "source": [
    "len(set(res))"
   ]
  }
 ],
 "metadata": {
  "kernelspec": {
   "display_name": "Python 2",
   "language": "python",
   "name": "python2"
  },
  "language_info": {
   "codemirror_mode": {
    "name": "ipython",
    "version": 2
   },
   "file_extension": ".py",
   "mimetype": "text/x-python",
   "name": "python",
   "nbconvert_exporter": "python",
   "pygments_lexer": "ipython2",
   "version": "2.7.14"
  },
  "toc": {
   "nav_menu": {},
   "number_sections": true,
   "sideBar": true,
   "skip_h1_title": false,
   "toc_cell": false,
   "toc_position": {},
   "toc_section_display": "block",
   "toc_window_display": false
  },
  "varInspector": {
   "cols": {
    "lenName": 16,
    "lenType": 16,
    "lenVar": 40
   },
   "kernels_config": {
    "python": {
     "delete_cmd_postfix": "",
     "delete_cmd_prefix": "del ",
     "library": "var_list.py",
     "varRefreshCmd": "print(var_dic_list())"
    },
    "r": {
     "delete_cmd_postfix": ") ",
     "delete_cmd_prefix": "rm(",
     "library": "var_list.r",
     "varRefreshCmd": "cat(var_dic_list()) "
    }
   },
   "types_to_exclude": [
    "module",
    "function",
    "builtin_function_or_method",
    "instance",
    "_Feature"
   ],
   "window_display": false
  }
 },
 "nbformat": 4,
 "nbformat_minor": 2
}
