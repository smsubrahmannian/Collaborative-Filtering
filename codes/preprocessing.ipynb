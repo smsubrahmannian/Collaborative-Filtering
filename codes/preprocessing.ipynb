{
 "cells": [
  {
   "cell_type": "code",
   "execution_count": null,
   "metadata": {
    "collapsed": true
   },
   "outputs": [],
   "source": [
    "from pyspark import SparkContext, SparkConf\n",
    "from pyspark.sql.types import *\n",
    "from pyspark.sql import SQLContext\n",
    "from pyspark.ml.feature import StringIndexer\n",
    "import sys"
   ]
  },
  {
   "cell_type": "code",
   "execution_count": 11,
   "metadata": {
    "collapsed": true
   },
   "outputs": [],
   "source": [
    "import pandas as pd"
   ]
  },
  {
   "cell_type": "code",
   "execution_count": 2,
   "metadata": {
    "collapsed": true
   },
   "outputs": [],
   "source": [
    "ip_address = '54.214.104.75'\n",
    "sqlContext = SQLContext(sc)"
   ]
  },
  {
   "cell_type": "code",
   "execution_count": 3,
   "metadata": {
    "collapsed": true
   },
   "outputs": [],
   "source": [
    "df_review = sqlContext.read.format(\"com.mongodb.spark.sql.DefaultSource\")\\\n",
    "    .option(\"uri\",\"mongodb://\"+ip_address+\"/yelp.review\").load()\n",
    "\n",
    "df_tip = sqlContext.read.format(\"com.mongodb.spark.sql.DefaultSource\")\\\n",
    "    .option(\"uri\",\"mongodb://\"+ip_address+\"/yelp.tip\").load()\n"
   ]
  },
  {
   "cell_type": "code",
   "execution_count": 4,
   "metadata": {
    "collapsed": true
   },
   "outputs": [],
   "source": [
    "rstdata = sc.textFile('/home/hadoop/Collaborative-Filtering/data/restaurant_ids_final.txt').map(lambda x: (x,1))\n",
    "\n"
   ]
  },
  {
   "cell_type": "code",
   "execution_count": 23,
   "metadata": {},
   "outputs": [],
   "source": [
    "ids = pd.read_csv('/home/hadoop/Collaborative-Filtering/data/restaurant_ids_final.txt').values.tolist()"
   ]
  },
  {
   "cell_type": "code",
   "execution_count": 30,
   "metadata": {},
   "outputs": [],
   "source": [
    "rstdata = sc.parallelize(ids).map(lambda x: (x[0],1))"
   ]
  },
  {
   "cell_type": "code",
   "execution_count": 31,
   "metadata": {},
   "outputs": [
    {
     "data": {
      "text/plain": [
       "[('FweiR9ytUFhQ8hHGY0ySGw', 1),\n",
       " ('-VBi01c4m2rWyzUj0rlvKQ', 1),\n",
       " ('Vlp68XpPYH0G9NHkgcglvA', 1),\n",
       " ('Ry0Sa_sMYdGehltrv7Cx0Q', 1)]"
      ]
     },
     "execution_count": 31,
     "metadata": {},
     "output_type": "execute_result"
    }
   ],
   "source": [
    "rstdata.take(4)"
   ]
  },
  {
   "cell_type": "code",
   "execution_count": 32,
   "metadata": {},
   "outputs": [],
   "source": [
    "rstdata = rstdata.toDF(['business_id','biz_ix']).select('business_id')"
   ]
  },
  {
   "cell_type": "code",
   "execution_count": 33,
   "metadata": {},
   "outputs": [
    {
     "name": "stdout",
     "output_type": "stream",
     "text": [
      "+--------------------+\n",
      "|         business_id|\n",
      "+--------------------+\n",
      "|FweiR9ytUFhQ8hHGY...|\n",
      "|-VBi01c4m2rWyzUj0...|\n",
      "|Vlp68XpPYH0G9NHkg...|\n",
      "|Ry0Sa_sMYdGehltrv...|\n",
      "|hPjVz5ixa54oIpVcR...|\n",
      "|2G_6PBM-klbh1u2v2...|\n",
      "|GD9mTnCht2bog2yb0...|\n",
      "|E0T-xQJXpM6Hsm-Ee...|\n",
      "|8u6NUtxSPH3CbLKTQ...|\n",
      "|qJRZ7eaarbermHS3Z...|\n",
      "|rslX_CGOBr5m6yOor...|\n",
      "|dQ11s7taakRn8omBU...|\n",
      "|qYMnY_A5Qh5wpK26T...|\n",
      "|RruVXr3L6G5RplZ_P...|\n",
      "|FS84wtnQv2i1cCO8h...|\n",
      "|Jxnqwp03AcAeqS4ma...|\n",
      "|McZz8few5LqWF37KZ...|\n",
      "|2C-Su_yxiOfojKP5x...|\n",
      "|bKoLvj4R8OUE2tFiq...|\n",
      "|hc7bFjQ0JtwfZhKDG...|\n",
      "+--------------------+\n",
      "only showing top 20 rows\n",
      "\n"
     ]
    }
   ],
   "source": []
  },
  {
   "cell_type": "code",
   "execution_count": 34,
   "metadata": {},
   "outputs": [
    {
     "data": {
      "text/plain": [
       "DataFrame[business_id: string]"
      ]
     },
     "execution_count": 34,
     "metadata": {},
     "output_type": "execute_result"
    }
   ],
   "source": [
    "df_review.persist()\n",
    "df_tip.persist()\n",
    "rstdata.persist()"
   ]
  },
  {
   "cell_type": "code",
   "execution_count": 35,
   "metadata": {
    "collapsed": true
   },
   "outputs": [],
   "source": [
    "userMap = df_review.select('user_id').union(df_tip.select('user_id')).distinct()\n",
    "indexer_userid = StringIndexer(inputCol=\"user_id\", outputCol=\"user_ix\")\n",
    "userMap = indexer_userid.fit(userMap).transform(userMap)\n",
    "\n",
    "bizMap = df_review.select('business_id').union(df_tip.select('business_id')).distinct()\n",
    "indexer_biz = StringIndexer(inputCol=\"business_id\", outputCol=\"biz_ix\")\n",
    "bizMap = indexer_biz.fit(bizMap).transform(bizMap)\n",
    "bizMap = rstdata.join(bizMap,on='business_id',how='inner')"
   ]
  },
  {
   "cell_type": "code",
   "execution_count": 36,
   "metadata": {
    "collapsed": true
   },
   "outputs": [],
   "source": [
    "df_review_als = df_review.select('user_id','business_id','stars')\n",
    "df_review_als = df_review_als.join(userMap,on='user_id',how='left_outer').join(bizMap,on='business_id',how='inner')\n",
    "ALS_baseline_df = df_review_als.select('user_ix','biz_ix','stars')\n",
    "df_tip_df = df_tip.join(userMap,on='user_id',how='left_outer').join(bizMap,on='business_id',how='inner')\n",
    "## drop and Save table\n",
    "\n",
    "userMap.write.parquet(\"s3://dknsyelp/userMap.parquet\", mode='overwrite')\n",
    "bizMap.write.parquet(\"s3://dknsyelp/bizMap.parquet\", mode='overwrite')\n",
    "ALS_baseline_df.write.parquet(\"s3://dknsyelp/ALS_baseline.parquet\", mode='overwrite')\n",
    "df_review.write.parquet(\"s3://dknsyelp/review.parquet\", mode='overwrite')\n",
    "df_tip_df.write.parquet(\"s3://dknsyelp/tip.parquet\", mode='overwrite')"
   ]
  },
  {
   "cell_type": "code",
   "execution_count": null,
   "metadata": {
    "collapsed": true
   },
   "outputs": [],
   "source": []
  }
 ],
 "metadata": {
  "kernelspec": {
   "display_name": "Python 2",
   "language": "python",
   "name": "python2"
  },
  "language_info": {
   "codemirror_mode": {
    "name": "ipython",
    "version": 2
   },
   "file_extension": ".py",
   "mimetype": "text/x-python",
   "name": "python",
   "nbconvert_exporter": "python",
   "pygments_lexer": "ipython2",
   "version": "2.7.14"
  }
 },
 "nbformat": 4,
 "nbformat_minor": 2
}
