{
 "cells": [
  {
   "cell_type": "code",
   "execution_count": 26,
   "metadata": {
    "collapsed": true
   },
   "outputs": [],
   "source": [
    "from pyspark import SparkContext\n",
    "from pyspark.sql.types import *\n",
    "from pyspark.sql.types import *\n",
    "from pyspark.sql import Row\n",
    "from pyspark.ml.recommendation import ALS\n",
    "from pyspark.ml.evaluation import RegressionEvaluator\n",
    "from pyspark.ml.tuning import CrossValidator\n",
    "from pyspark.ml.tuning import ParamGridBuilder\n",
    "from pyspark.ml.feature import StringIndexer\n",
    "from pyspark.sql.functions import udf"
   ]
  },
  {
   "cell_type": "code",
   "execution_count": 2,
   "metadata": {
    "collapsed": true
   },
   "outputs": [],
   "source": [
    "sc = SparkContext.getOrCreate()\n",
    "sqlContext = SQLContext(sc)"
   ]
  },
  {
   "cell_type": "code",
   "execution_count": null,
   "metadata": {
    "collapsed": true
   },
   "outputs": [],
   "source": [
    "sc.set"
   ]
  },
  {
   "cell_type": "code",
   "execution_count": 3,
   "metadata": {
    "collapsed": true
   },
   "outputs": [],
   "source": [
    "df =spark.read.format(\"com.mongodb.spark.sql.DefaultSource\").option(\"uri\",\"mongodb://54.245.171.238/yelp.review\").load()"
   ]
  },
  {
   "cell_type": "code",
   "execution_count": 4,
   "metadata": {
    "collapsed": true
   },
   "outputs": [],
   "source": [
    "df_final=df.select('business_id','stars','user_id', 'useful')"
   ]
  },
  {
   "cell_type": "code",
   "execution_count": 11,
   "metadata": {},
   "outputs": [],
   "source": [
    "from vaderSentiment.vaderSentiment import SentimentIntensityAnalyzer\n",
    "analyser = SentimentIntensityAnalyzer()\n",
    "#analyser.polarity_scores()"
   ]
  },
  {
   "cell_type": "code",
   "execution_count": 20,
   "metadata": {},
   "outputs": [],
   "source": [
    "rating_udf = udf(lambda x: analyser.polarity_scores(x)['compound'], FloatType())"
   ]
  },
  {
   "cell_type": "code",
   "execution_count": 23,
   "metadata": {},
   "outputs": [],
   "source": [
    "df_rated=df.withColumn(\"textrating\", rating_udf(df.text))"
   ]
  },
  {
   "cell_type": "code",
   "execution_count": 24,
   "metadata": {},
   "outputs": [
    {
     "name": "stdout",
     "output_type": "stream",
     "text": [
      "+--------------------+--------------------+----+----------+-----+--------------------+-----+--------------------+------+--------------------+----------+\n",
      "|                 _id|         business_id|cool|      date|funny|           review_id|stars|                text|useful|             user_id|textrating|\n",
      "+--------------------+--------------------+----+----------+-----+--------------------+-----+--------------------+------+--------------------+----------+\n",
      "|[5a5e9699bf78f846...|uYHaNptLzDLoV_JZ_...|   0|2016-07-12|    0|VfBHSwC5Vz_pbFluy...|    5|My girlfriend and...|     0|cjpdDjZyprfyDG3Rl...|    0.9855|\n",
      "|[5a5e9699bf78f846...|uYHaNptLzDLoV_JZ_...|   0|2016-10-02|    0|3zRpneRKDsOPq92tq...|    3|If you need an in...|     0|bjTcT8Ty4cJZhEOEo...|    0.8921|\n",
      "|[5a5e9699bf78f846...|uYHaNptLzDLoV_JZ_...|   0|2015-09-17|    0|ne5WhI1jUFOcRn-b-...|    3|Mittlerweile gibt...|     0|AXgRULmWcME7J6Ix3...|   -0.9837|\n",
      "|[5a5e9699bf78f846...|uYHaNptLzDLoV_JZ_...|   0|2016-08-21|    0|llmdwOgDReucVoWEr...|    4|Location is every...|     0|oU2SSOmsp_A8JYI7Z...|    0.9597|\n",
      "|[5a5e9699bf78f846...|uYHaNptLzDLoV_JZ_...|   0|2013-11-20|    0|DuffS87NaSMDmIflu...|    5|gute lage im stad...|     0|0xtbPEna2Kei11vsU...|    -0.128|\n",
      "|[5a5e9699bf78f846...|uYHaNptLzDLoV_JZ_...|   0|2016-06-05|    0|GvLmUkjUrOyFH8KFn...|    5|Erstklassige Lage...|     0|rW8q706dz5-NnXDzM...|    0.5994|\n",
      "|[5a5e9699bf78f846...|uYHaNptLzDLoV_JZ_...|   0|2015-02-21|    0|lGEl24NGj2HVBJrod...|    4|Beautiful space, ...|     0|yx8vNXUL0D0HS8rUI...|    0.8816|\n",
      "|[5a5e9699bf78f846...|uYHaNptLzDLoV_JZ_...|   0|2013-07-07|    0|cUgvEy5wj7zYE68v1...|    4|This is a fairly ...|     0|zXnH6W74FAJQ7q7b-...|    0.5577|\n",
      "|[5a5e9699bf78f846...|uYHaNptLzDLoV_JZ_...|   2|2013-04-27|    0|FSB_BnvysBgH3JYrb...|    4|First time at thi...|     2|c5yp5hxwC1N98MjbV...|    0.9793|\n",
      "|[5a5e9699bf78f846...|uYHaNptLzDLoV_JZ_...|   0|2015-04-13|    0|dhl3ZW9aAEX_T7_um...|    4|Location location...|     2|xJisL5w4wOgiYLokG...|    0.9523|\n",
      "|[5a5e9699bf78f846...|uYHaNptLzDLoV_JZ_...|   1|2016-11-08|    1|JQJvnM3p-3eML05eK...|    4|A hotel that has ...|     1|tgV6tsYQ66DZ3LQKv...|    0.9335|\n",
      "|[5a5e9699bf78f846...|uYHaNptLzDLoV_JZ_...|   0|2015-07-27|    0|6JF4WfHgwYrrdZ2Ve...|    3|Stayed here for t...|     1|Q-3YCVywc03w56wYt...|    0.9625|\n",
      "|[5a5e9699bf78f846...|uYHaNptLzDLoV_JZ_...|   0|2014-05-07|    0|fbVYETRuWDw8Qnpim...|    4|Well, i like the ...|     1|Cx4UCow0zQgFQOp47...|    0.8572|\n",
      "|[5a5e9699bf78f846...|uYHaNptLzDLoV_JZ_...|   0|2015-02-26|    0|lobj38NgaokqVseN8...|    4|I really do love ...|     1|eqWEgMH-DCP74i82B...|    0.9968|\n",
      "|[5a5e9699bf78f846...|uYHaNptLzDLoV_JZ_...|   1|2015-08-21|    0|ysfjtAWreLoy7um8W...|    5|Motel One sets th...|     1|d0DGZRp6lHXGECJSc...|    0.9951|\n",
      "|[5a5e9699bf78f846...|uYHaNptLzDLoV_JZ_...|   0|2013-12-07|    0|OF1ToqGAubsWGri5i...|    3|Had Continental s...|     1|IpLZ7RevQrFPJWYc9...|    0.9697|\n",
      "|[5a5e9699bf78f846...|jQsNFOzDpxPmOurSW...|   0|2017-06-03|    0|ByRzJ8rF2KJWLr-cU...|    1|This place is hor...|     0|kzyLOqiJvyw_FWFTw...|    0.7661|\n",
      "|[5a5e9699bf78f846...|jQsNFOzDpxPmOurSW...|   0|2015-03-26|    0|i5UwUPlQFPLcE8p2g...|    4|For being fairly ...|     1|WZXp9-V2dqRRJqhGg...|    0.9901|\n",
      "|[5a5e9699bf78f846...|jQsNFOzDpxPmOurSW...|   1|2012-12-30|    1|EyQyvTTg2jX4or9bB...|    5|I decided to try ...|     2|XylT12exfdLiI_3uD...|    0.9781|\n",
      "|[5a5e9699bf78f846...|jQsNFOzDpxPmOurSW...|   1|2009-01-12|    1|G-EFA005besj5uHsH...|    3|I'm not saying Pe...|     1|Ji9PeffxjwqPLO7pE...|    0.9846|\n",
      "+--------------------+--------------------+----+----------+-----+--------------------+-----+--------------------+------+--------------------+----------+\n",
      "only showing top 20 rows\n",
      "\n"
     ]
    }
   ],
   "source": [
    "df_rated.show()"
   ]
  },
  {
   "cell_type": "code",
   "execution_count": 27,
   "metadata": {},
   "outputs": [],
   "source": [
    "indexer = StringIndexer(inputCol=\"business_id\", outputCol=\"business_id_indexed\")\n",
    "df_rated = indexer.fit(df_rated).transform(df_rated)\n",
    "indexer = StringIndexer(inputCol=\"user_id\", outputCol=\"user_id_indexed\")\n",
    "df_rated = indexer.fit(df_rated).transform(df_rated)\n",
    "\n",
    "df_input=df_rated.select('user_id_indexed', 'business_id_indexed', 'textrating')"
   ]
  },
  {
   "cell_type": "code",
   "execution_count": 37,
   "metadata": {},
   "outputs": [
    {
     "data": {
      "text/plain": [
       "DataFrame[user_id_indexed: double, business_id_indexed: double, textrating: float]"
      ]
     },
     "execution_count": 37,
     "metadata": {},
     "output_type": "execute_result"
    }
   ],
   "source": [
    "df_input.cache()"
   ]
  },
  {
   "cell_type": "code",
   "execution_count": 42,
   "metadata": {
    "scrolled": true
   },
   "outputs": [
    {
     "data": {
      "text/plain": [
       "-0.9998000264167786"
      ]
     },
     "execution_count": 42,
     "metadata": {},
     "output_type": "execute_result"
    }
   ],
   "source": [
    "df_input.agg({\"textrating\": \"min\"}).collect()[0][0]"
   ]
  },
  {
   "cell_type": "code",
   "execution_count": 48,
   "metadata": {},
   "outputs": [],
   "source": [
    "df_input2=df_input.select('user_id_indexed', 'business_id_indexed', ((df_input.textrating+1.5)*2.0).alias(\"final_rating\"))"
   ]
  },
  {
   "cell_type": "code",
   "execution_count": null,
   "metadata": {
    "collapsed": true
   },
   "outputs": [],
   "source": []
  },
  {
   "cell_type": "code",
   "execution_count": 49,
   "metadata": {},
   "outputs": [
    {
     "name": "stdout",
     "output_type": "stream",
     "text": [
      "+---------------+-------------------+------------------+\n",
      "|user_id_indexed|business_id_indexed|      final_rating|\n",
      "+---------------+-------------------+------------------+\n",
      "|        95597.0|            10690.0|4.9709999561309814|\n",
      "|       119624.0|            10690.0| 4.784199953079224|\n",
      "|       102416.0|            10690.0|1.0326000452041626|\n",
      "|       100157.0|            10690.0| 4.919399976730347|\n",
      "|       393296.0|            10690.0|2.7439999878406525|\n",
      "|       197307.0|            10690.0| 4.198799967765808|\n",
      "|        29765.0|            10690.0| 4.763200044631958|\n",
      "|        83123.0|            10690.0| 4.115399956703186|\n",
      "|        75523.0|            10690.0| 4.958600044250488|\n",
      "|       127977.0|            10690.0| 4.904600024223328|\n",
      "|        29808.0|            10690.0| 4.866999983787537|\n",
      "|       246605.0|            10690.0| 4.924999952316284|\n",
      "|       116579.0|            10690.0| 4.714400053024292|\n",
      "|         1071.0|            10690.0| 4.993600010871887|\n",
      "|        71793.0|            10690.0| 4.990200042724609|\n",
      "|         3879.0|            10690.0|  4.93939995765686|\n",
      "|       175794.0|             1473.0|  4.53219997882843|\n",
      "|         6149.0|             1473.0|4.9802000522613525|\n",
      "|         3953.0|             1473.0| 4.956200003623962|\n",
      "|         7666.0|             1473.0| 4.969200015068054|\n",
      "+---------------+-------------------+------------------+\n",
      "only showing top 20 rows\n",
      "\n"
     ]
    }
   ],
   "source": [
    "df_input2.show()"
   ]
  },
  {
   "cell_type": "code",
   "execution_count": 50,
   "metadata": {},
   "outputs": [
    {
     "data": {
      "text/plain": [
       "DataFrame[user_id_indexed: double, business_id_indexed: double, final_rating: double]"
      ]
     },
     "execution_count": 50,
     "metadata": {},
     "output_type": "execute_result"
    }
   ],
   "source": [
    "train,valid = df_input2.randomSplit([0.8,0.2])\n",
    "# Cached it improve speed\n",
    "train.cache()\n",
    "valid.cache()"
   ]
  },
  {
   "cell_type": "code",
   "execution_count": 51,
   "metadata": {},
   "outputs": [
    {
     "name": "stdout",
     "output_type": "stream",
     "text": [
      "RMSE of training data = 1.17257359146\n",
      "RMSE of validation data = 1.52146479465\n"
     ]
    }
   ],
   "source": [
    "# coldstartStrategy will ensure that we have no nan value\n",
    "als = ALS(maxIter=10, regParam=1, userCol=\"user_id_indexed\",nonnegative=True\n",
    "          ,itemCol=\"business_id_indexed\", ratingCol=\"final_rating\", rank =10)\n",
    "model = als.fit(train)\n",
    "#Train\n",
    "pred_trn = model.transform(train)\n",
    "evaluator = RegressionEvaluator(metricName=\"rmse\", labelCol=\"final_rating\",\n",
    "                                predictionCol=\"prediction\")\n",
    "rmse = evaluator.evaluate(pred_trn)\n",
    "print(\"RMSE of training data = \" + str(rmse))\n",
    "#validation\n",
    "pred_vld = model.transform(valid).na.drop(\"all\",subset=['prediction'])\n",
    "rmse = evaluator.evaluate(pred_vld)\n",
    "print(\"RMSE of validation data = \" + str(rmse))"
   ]
  },
  {
   "cell_type": "code",
   "execution_count": 52,
   "metadata": {
    "collapsed": true
   },
   "outputs": [],
   "source": [
    "tips=spark.read.format(\"com.mongodb.spark.sql.DefaultSource\").option(\"uri\",\"mongodb://54.245.171.238/yelp.tip\").load()"
   ]
  },
  {
   "cell_type": "code",
   "execution_count": 54,
   "metadata": {},
   "outputs": [
    {
     "data": {
      "text/plain": [
       "DataFrame[_id: struct<oid:string>, business_id: string, date: string, likes: int, text: string, user_id: string]"
      ]
     },
     "execution_count": 54,
     "metadata": {},
     "output_type": "execute_result"
    }
   ],
   "source": [
    "tips.cache()"
   ]
  },
  {
   "cell_type": "code",
   "execution_count": 55,
   "metadata": {
    "collapsed": true
   },
   "outputs": [],
   "source": [
    "tips_rated=tips.withColumn(\"textrating\", rating_udf(tips.text))"
   ]
  },
  {
   "cell_type": "code",
   "execution_count": 56,
   "metadata": {},
   "outputs": [
    {
     "name": "stdout",
     "output_type": "stream",
     "text": [
      "+--------------------+--------------------+----------+-----+--------------------+--------------------+----------+\n",
      "|                 _id|         business_id|      date|likes|                text|             user_id|textrating|\n",
      "+--------------------+--------------------+----------+-----+--------------------+--------------------+----------+\n",
      "|[5a5eb6e107002a9b...|jH19V2I9fIslnNhDz...|2015-08-12|    0|Great breakfast l...|ZcLKXikTHYOnYt5VY...|    0.8777|\n",
      "|[5a5eb6e107002a9b...|tJRDll5yqpZwehenz...|2012-07-15|    0|Get here early en...|zcTZk7OG8ovAmh_fe...|       0.0|\n",
      "|[5a5eb6e107002a9b...|dAa0hB2yrnHzVmsCk...|2014-06-20|    0|Nice place. Great...|oaYhjqBbh18ZhU0bp...|    0.7845|\n",
      "|[5a5eb6e107002a9b...|dAa0hB2yrnHzVmsCk...|2016-10-12|    0|Happy hour 5-7 Mo...|ulQ8Nyj7jCUR8M83S...|    0.5719|\n",
      "|[5a5eb6e107002a9b...|k7WRPbDd7rztjHcGG...|2017-02-25|    0|Homemade pasta is...|ulQ8Nyj7jCUR8M83S...|    0.6369|\n",
      "|[5a5eb6e107002a9b...|k7WRPbDd7rztjHcGG...|2017-04-08|    0|Excellent service...|ulQ8Nyj7jCUR8M83S...|    0.7003|\n",
      "|[5a5eb6e107002a9b...|ESzO3Av0b1_TzKOiq...|2017-01-28|    0|Parking is a prem...|ulQ8Nyj7jCUR8M83S...|    0.6249|\n",
      "|[5a5eb6e107002a9b...|SqW3igh1_Png336VI...|2016-07-03|    0|Come early on Sun...|ulQ8Nyj7jCUR8M83S...|    -0.296|\n",
      "|[5a5eb6e107002a9b...|KNpcPGqDORDdvtekX...|2016-01-07|    0|    Love their soup!|ulQ8Nyj7jCUR8M83S...|    0.6696|\n",
      "|[5a5eb6e107002a9b...|KNpcPGqDORDdvtekX...|2016-05-22|    0|Soups are fantastic!|ulQ8Nyj7jCUR8M83S...|    0.5983|\n",
      "|[5a5eb6e107002a9b...|KNpcPGqDORDdvtekX...|2016-06-09|    0|Thursday night is...|ulQ8Nyj7jCUR8M83S...|       0.0|\n",
      "|[5a5eb6e107002a9b...|8qNOI6Q1-rJrvWWD5...|2016-06-14|    0|Tuesday spaghetti...|ulQ8Nyj7jCUR8M83S...|    0.4019|\n",
      "|[5a5eb6e107002a9b...|8qNOI6Q1-rJrvWWD5...|2016-06-01|    0|Very good for lun...|ulQ8Nyj7jCUR8M83S...|    0.7841|\n",
      "|[5a5eb6e107002a9b...|--ujyvoQlwVoBgMYt...|2016-08-22|    0|Sunday $.55 bone-...|ulQ8Nyj7jCUR8M83S...|       0.0|\n",
      "|[5a5eb6e107002a9b...|Tl_jT2a0bRMac5_YW...|2016-06-13|    0|Nice happy hour m...|ulQ8Nyj7jCUR8M83S...|    0.7579|\n",
      "|[5a5eb6e107002a9b...|FCUVjQf762no86Uzc...|2017-01-21|    0|There isn't a bad...|ulQ8Nyj7jCUR8M83S...|     0.484|\n",
      "|[5a5eb6e107002a9b...|Tl_jT2a0bRMac5_YW...|2016-06-30|    0|Always have somet...|ulQ8Nyj7jCUR8M83S...|     0.802|\n",
      "|[5a5eb6e107002a9b...|c5NHHW0sNm7eaQBwv...|2015-10-28|    0|Brisket sandwich ...|ulQ8Nyj7jCUR8M83S...|    0.6678|\n",
      "|[5a5eb6e107002a9b...|zJwm3DThV4WUIkyNv...|2016-02-11|    0|Double wide does ...|ulQ8Nyj7jCUR8M83S...|    0.5106|\n",
      "|[5a5eb6e107002a9b...|7B-xM_3t9NKebmkEo...|2017-02-10|    0|Good everything o...|FHGJ3xnzKYoSZqmQJ...|    0.4404|\n",
      "+--------------------+--------------------+----------+-----+--------------------+--------------------+----------+\n",
      "only showing top 20 rows\n",
      "\n"
     ]
    }
   ],
   "source": [
    "tips_rated.show()"
   ]
  },
  {
   "cell_type": "code",
   "execution_count": 57,
   "metadata": {
    "collapsed": true
   },
   "outputs": [],
   "source": [
    "indexer = StringIndexer(inputCol=\"business_id\", outputCol=\"business_id_indexed\")\n",
    "tips_rated = indexer.fit(tips_rated).transform(tips_rated)\n",
    "indexer = StringIndexer(inputCol=\"user_id\", outputCol=\"user_id_indexed\")\n",
    "tips_rated = indexer.fit(tips_rated).transform(tips_rated)\n",
    "tips_input=tips_rated.select('user_id_indexed', 'business_id_indexed', 'textrating')"
   ]
  },
  {
   "cell_type": "code",
   "execution_count": 58,
   "metadata": {
    "collapsed": true
   },
   "outputs": [],
   "source": [
    "tips_input2=tips_input.select('user_id_indexed', 'business_id_indexed', ((tips_input.textrating+1.5)*2.0).alias(\"final_rating\"))"
   ]
  },
  {
   "cell_type": "code",
   "execution_count": null,
   "metadata": {},
   "outputs": [],
   "source": []
  },
  {
   "cell_type": "code",
   "execution_count": 60,
   "metadata": {},
   "outputs": [
    {
     "data": {
      "text/plain": [
       "DataFrame[user_id_indexed: double, business_id_indexed: double, final_rating: double]"
      ]
     },
     "execution_count": 60,
     "metadata": {},
     "output_type": "execute_result"
    }
   ],
   "source": [
    "train,valid = tips_input2.randomSplit([0.8,0.2])\n",
    "# Cached it improve speed\n",
    "train.cache()\n",
    "valid.cache()"
   ]
  },
  {
   "cell_type": "code",
   "execution_count": 61,
   "metadata": {},
   "outputs": [
    {
     "name": "stdout",
     "output_type": "stream",
     "text": [
      "RMSE of training data = 1.17356664921\n",
      "RMSE of validation data = 1.32288001362\n"
     ]
    }
   ],
   "source": [
    "# coldstartStrategy will ensure that we have no nan value\n",
    "als = ALS(maxIter=10, regParam=1, userCol=\"user_id_indexed\",nonnegative=True\n",
    "          ,itemCol=\"business_id_indexed\", ratingCol=\"final_rating\", rank =10)\n",
    "model = als.fit(train)\n",
    "#Train\n",
    "pred_trn = model.transform(train)\n",
    "evaluator = RegressionEvaluator(metricName=\"rmse\", labelCol=\"final_rating\",\n",
    "                                predictionCol=\"prediction\")\n",
    "rmse = evaluator.evaluate(pred_trn)\n",
    "print(\"RMSE of training data = \" + str(rmse))\n",
    "#validation\n",
    "pred_vld = model.transform(valid).na.drop(\"all\",subset=['prediction'])\n",
    "rmse = evaluator.evaluate(pred_vld)\n",
    "print(\"RMSE of validation data = \" + str(rmse))"
   ]
  },
  {
   "cell_type": "code",
   "execution_count": 62,
   "metadata": {},
   "outputs": [
    {
     "data": {
      "text/plain": [
       "823560"
      ]
     },
     "execution_count": 62,
     "metadata": {},
     "output_type": "execute_result"
    }
   ],
   "source": [
    "pred_trn.count()"
   ]
  },
  {
   "cell_type": "code",
   "execution_count": 63,
   "metadata": {},
   "outputs": [
    {
     "data": {
      "text/plain": [
       "823560"
      ]
     },
     "execution_count": 63,
     "metadata": {},
     "output_type": "execute_result"
    }
   ],
   "source": [
    "train.count()"
   ]
  },
  {
   "cell_type": "code",
   "execution_count": 64,
   "metadata": {},
   "outputs": [
    {
     "data": {
      "text/plain": [
       "(167880, 205242)"
      ]
     },
     "execution_count": 64,
     "metadata": {},
     "output_type": "execute_result"
    }
   ],
   "source": [
    "pred_vld.count(), valid.count()"
   ]
  },
  {
   "cell_type": "code",
   "execution_count": null,
   "metadata": {
    "collapsed": true
   },
   "outputs": [],
   "source": []
  }
 ],
 "metadata": {
  "kernelspec": {
   "display_name": "Python 2",
   "language": "python",
   "name": "python2"
  },
  "language_info": {
   "codemirror_mode": {
    "name": "ipython",
    "version": 2
   },
   "file_extension": ".py",
   "mimetype": "text/x-python",
   "name": "python",
   "nbconvert_exporter": "python",
   "pygments_lexer": "ipython2",
   "version": "2.7.14"
  }
 },
 "nbformat": 4,
 "nbformat_minor": 2
}
